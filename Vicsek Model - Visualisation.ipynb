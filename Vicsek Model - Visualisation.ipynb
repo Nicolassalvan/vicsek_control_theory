{
 "cells": [
  {
   "cell_type": "markdown",
   "id": "7d09fea7",
   "metadata": {},
   "source": [
    "Ian Soede, Nicolas Salvan"
   ]
  },
  {
   "cell_type": "markdown",
   "id": "79223bc1",
   "metadata": {},
   "source": []
  },
  {
   "cell_type": "markdown",
   "id": "81a9c204",
   "metadata": {},
   "source": [
    "# Control theory and Vicsek Model "
   ]
  },
  {
   "cell_type": "markdown",
   "id": "59027fe4",
   "metadata": {},
   "source": [
    "## Introduction\n",
    "\n",
    "---\n",
    "In this file, you will find data visualisation of different simulations. "
   ]
  },
  {
   "cell_type": "markdown",
   "id": "ff2d4ac1",
   "metadata": {},
   "source": [
    "## Library import"
   ]
  },
  {
   "cell_type": "code",
   "execution_count": null,
   "id": "f2f857c5",
   "metadata": {},
   "outputs": [],
   "source": [
    "import numpy as np \n",
    "import matplotlib.pyplot as plt\n",
    "import seaborn as sns\n",
    "import sys\n",
    "import pandas as pd\n",
    "from IPython.display import Video, display\n"
   ]
  },
  {
   "cell_type": "code",
   "execution_count": null,
   "id": "2f2f2fff",
   "metadata": {},
   "outputs": [],
   "source": [
    "# Import models \n",
    "import models.vicsek as vicsek\n",
    "import visualisation as visualisation\n",
    "import utils\n",
    "import animation.Animator2D as Animator2D\n",
    "import animation.MatplotlibAnimator as MatplotlibAnimator"
   ]
  },
  {
   "cell_type": "code",
   "execution_count": null,
   "id": "caa54303",
   "metadata": {},
   "outputs": [],
   "source": [
    "def import_bib():\n",
    "    import models.vicsek as vicsek\n",
    "    import visualisation as visualisation\n",
    "    import utils\n",
    "    import animation.Animator2D as Animator2D\n",
    "    import animation.MatplotlibAnimator as MatplotlibAnimator\n",
    "import_bib()\n",
    "    "
   ]
  },
  {
   "cell_type": "markdown",
   "id": "8c0d62d5",
   "metadata": {},
   "source": [
    "## 0. Lauching a simulation"
   ]
  },
  {
   "cell_type": "code",
   "execution_count": null,
   "id": "9c95ebe9",
   "metadata": {},
   "outputs": [],
   "source": [
    "# Initialize the Vicsek model.\n",
    "simulator = vicsek.Vicsek(domainSize=(50,50))\n",
    "# Simulate the Vicsek model.\n",
    "simulationData = simulator.simulate()\n",
    "\n",
    "# Extract the simulation data.\n",
    "time, positions, orientations = simulationData[0], simulationData[1], simulationData[2]"
   ]
  },
  {
   "cell_type": "code",
   "execution_count": null,
   "id": "85cf9fa2",
   "metadata": {},
   "outputs": [],
   "source": [
    "df = utils.simulationDataToDataframe(simulationData)\n",
    "df.head()"
   ]
  },
  {
   "cell_type": "markdown",
   "id": "3ce128b4",
   "metadata": {},
   "source": [
    "### Animation of the simulation"
   ]
  },
  {
   "cell_type": "code",
   "execution_count": null,
   "id": "1baeb917",
   "metadata": {},
   "outputs": [],
   "source": [
    "# Initialize the Matplotanimator and feed the simulation data and domain size.\n",
    "animator = MatplotlibAnimator.MatplotlibAnimator(simulationData, (50,50))\n",
    "# Prepare the animator for a 2D representation.\n",
    "preparedAnimator = animator.prepare(Animator2D.Animator2D())\n",
    "preparedAnimator.saveAnimation('data/vicsek3.mp4')"
   ]
  },
  {
   "cell_type": "code",
   "execution_count": null,
   "id": "673f3879",
   "metadata": {},
   "outputs": [],
   "source": [
    "display(Video('data/vicsek3.mp4', embed=False))"
   ]
  },
  {
   "cell_type": "markdown",
   "id": "d43aad7a",
   "metadata": {},
   "source": [
    "## Part 1 : Bird path "
   ]
  },
  {
   "cell_type": "markdown",
   "id": "a1fc75af",
   "metadata": {},
   "source": [
    "### Bird position over time"
   ]
  },
  {
   "cell_type": "code",
   "execution_count": null,
   "id": "ed099c73",
   "metadata": {},
   "outputs": [],
   "source": [
    "fig, ax = visualisation.plot_bird_path(df, 0)\n",
    "# fig.savefig('data/bird_path.png')"
   ]
  },
  {
   "cell_type": "markdown",
   "id": "e36c7b89",
   "metadata": {},
   "source": [
    "### Bird orientation over time "
   ]
  },
  {
   "cell_type": "code",
   "execution_count": null,
   "id": "b3b2c660",
   "metadata": {},
   "outputs": [],
   "source": [
    "# TEST\n",
    "fig, axs = visualisation.plot_bird_orientation(df, 0)\n",
    "fig.savefig('data/bird_orientation.png')"
   ]
  },
  {
   "cell_type": "markdown",
   "id": "0ebbd06d",
   "metadata": {},
   "source": [
    "### Phase portrait of orientation "
   ]
  },
  {
   "cell_type": "code",
   "execution_count": null,
   "id": "8730e329",
   "metadata": {},
   "outputs": [],
   "source": [
    "# TODO "
   ]
  },
  {
   "cell_type": "markdown",
   "id": "e250599a",
   "metadata": {},
   "source": [
    "### Highlight a bird in a video, trajectory in the video "
   ]
  },
  {
   "cell_type": "code",
   "execution_count": null,
   "id": "4cb3ed74",
   "metadata": {},
   "outputs": [],
   "source": [
    "## TODO but seems useless so I'll do it last"
   ]
  },
  {
   "cell_type": "markdown",
   "id": "77a4bb1f",
   "metadata": {},
   "source": [
    "## 2. Controller plots"
   ]
  },
  {
   "cell_type": "code",
   "execution_count": null,
   "id": "104e549c",
   "metadata": {},
   "outputs": [],
   "source": [
    "## TO DO "
   ]
  },
  {
   "cell_type": "markdown",
   "id": "be79d2c3",
   "metadata": {},
   "source": [
    "## 3. Plot the simulation at some time "
   ]
  },
  {
   "cell_type": "code",
   "execution_count": null,
   "id": "47e7391b",
   "metadata": {},
   "outputs": [],
   "source": [
    "fig, ax = visualisation.plot_simulation(df, 0, 50)\n",
    "# fig.savefig('data/simulation_t_0.png')"
   ]
  },
  {
   "cell_type": "markdown",
   "id": "655abbd1",
   "metadata": {},
   "source": [
    "## 4. Average behaviour of the flock"
   ]
  },
  {
   "cell_type": "code",
   "execution_count": null,
   "id": "be4fdced",
   "metadata": {},
   "outputs": [],
   "source": [
    "angle_mean = utils.average_orientation(df)\n",
    "plt.plot(angle_mean)\n",
    "plt.ylim(-0.75*np.pi, 0.75*np.pi)\n",
    "plt.show()"
   ]
  },
  {
   "cell_type": "code",
   "execution_count": null,
   "id": "58f81aa2",
   "metadata": {},
   "outputs": [],
   "source": [
    "fig, axs = visualisation.plot_average_orientation(df)\n",
    "fig.savefig('data/average_orientation.png')"
   ]
  },
  {
   "cell_type": "code",
   "execution_count": null,
   "id": "754c58e5",
   "metadata": {},
   "outputs": [],
   "source": [
    "# def plot_average_position(df, L=50):\n",
    "#     # Compute the average position of the flock over time.\n",
    "#     df_pos = utils.extract_positions_from_dataframe(df)\n",
    "#     x = df_pos.filter(like=\"x\").to_numpy()\n",
    "#     y = df_pos.filter(like=\"y\").to_numpy()\n",
    "#     x_mean = np.mean(x, axis=1)\n",
    "#     y_mean = np.mean(y, axis=1)\n",
    "\n",
    "#     # Plot the average position of the flock over time.\n",
    "#     fig, ax = plt.subplots()\n",
    "#     ax.plot(x_mean, y_mean)\n",
    "#     ax.set_title('Average position of the flock over time')\n",
    "#     ax.set_xlabel('x')\n",
    "#     ax.set_ylabel('y')\n",
    "#     ax.set_xlim(0, L)\n",
    "#     ax.set_ylim(0, L)\n",
    "#     plt.show()\n",
    "\n",
    "#     return fig, ax\n",
    "\n",
    "fig, ax = visualisation.plot_average_position(df)\n",
    "fig.savefig('data/average_position.png')\n"
   ]
  },
  {
   "cell_type": "markdown",
   "id": "3ef79b90",
   "metadata": {},
   "source": [
    "## 5. Order factor and other coefficients "
   ]
  },
  {
   "cell_type": "code",
   "execution_count": null,
   "id": "4a278b97",
   "metadata": {},
   "outputs": [],
   "source": [
    "# TESTS \n",
    "utils.order_factor(df)\n",
    "print(utils.stationnary_order_factor(df), \"Stationnary Order Factor\")\n"
   ]
  },
  {
   "cell_type": "code",
   "execution_count": null,
   "id": "67bc3208",
   "metadata": {},
   "outputs": [],
   "source": [
    "\n",
    "# def plot_order_factor(df):\n",
    "#     order = utils.order_factor(df)\n",
    "#     fig, ax = plt.subplots()\n",
    "#     ax.plot(order)\n",
    "#     plt.title('Order factor over time')\n",
    "#     plt.xlabel('iterations')\n",
    "#     plt.ylabel('order factor')\n",
    "#     plt.ylim(0, 1)\n",
    "#     plt.show()\n",
    "\n",
    "#     return fig, ax\n",
    "\n",
    "    \n",
    "\n",
    "fig, ax = visualisation.plot_order_factor(df)\n",
    "# fig.savefig('data/order_factor.png')\n",
    "\n"
   ]
  },
  {
   "cell_type": "markdown",
   "id": "0a0800ed",
   "metadata": {},
   "source": [
    "## Ploting clusters, cluster analysis "
   ]
  },
  {
   "cell_type": "code",
   "execution_count": null,
   "id": "069becc7",
   "metadata": {},
   "outputs": [],
   "source": [
    "import time\n",
    "import warnings\n",
    "from itertools import cycle, islice\n",
    "\n",
    "from sklearn import cluster, datasets, mixture\n",
    "from sklearn.neighbors import kneighbors_graph\n",
    "from sklearn.preprocessing import StandardScaler"
   ]
  },
  {
   "cell_type": "markdown",
   "id": "f24be6a5",
   "metadata": {},
   "source": [
    "### DBSCAN on the different dataframes "
   ]
  },
  {
   "cell_type": "code",
   "execution_count": null,
   "id": "38ef0fed",
   "metadata": {},
   "outputs": [],
   "source": [
    "### TESTS\n",
    "pos_labels = utils.naive_clustering_labels_positions(df, -1)\n",
    "orient_labels = utils.naive_clustering_labels_orientations(df, -1)\n",
    "all_labels = utils.naive_clustering_labels_positions_and_orientations(df, -1)\n",
    "\n",
    "for label in [pos_labels, orient_labels, all_labels]:\n",
    "    print(utils.clustering_labels_stats(label))\n"
   ]
  },
  {
   "cell_type": "markdown",
   "id": "31ee46fe",
   "metadata": {},
   "source": [
    "### Plotting clusters"
   ]
  },
  {
   "cell_type": "code",
   "execution_count": null,
   "id": "60476092",
   "metadata": {},
   "outputs": [],
   "source": [
    "# def coloring_clusters(labels, cmap_name='rainbow'):\n",
    "#     n = len(set(labels))\n",
    "#     cmap = plt.get_cmap(cmap_name)\n",
    "#     colors = cmap(labels+1 / max(labels+1))\n",
    "#     return pd.DataFrame(colors)\n",
    "\n",
    "### TESTS\n",
    "labels = utils.naive_clustering_labels_positions(df, -1)\n",
    "utils.coloring_clusters(labels).head()"
   ]
  },
  {
   "cell_type": "code",
   "execution_count": null,
   "id": "8a945536",
   "metadata": {},
   "outputs": [],
   "source": [
    "fig, ax = visualisation.plot_clusters(df, 1000, method='both')\n",
    "# fig.savefig('data/clusters.png')\n",
    "\n"
   ]
  },
  {
   "cell_type": "code",
   "execution_count": null,
   "id": "953bc653",
   "metadata": {},
   "outputs": [],
   "source": [
    "fig, ax = visualisation.plot_clusters_kde(df, 1000, method='both')\n",
    "# fig.savefig('data/clusters_kde.png')"
   ]
  },
  {
   "cell_type": "markdown",
   "id": "c101da50",
   "metadata": {},
   "source": [
    "### Less naive clustering - periodic conditions"
   ]
  },
  {
   "cell_type": "code",
   "execution_count": null,
   "id": "8c0e18e4",
   "metadata": {},
   "outputs": [],
   "source": [
    "from scipy.spatial.distance import pdist,squareform"
   ]
  },
  {
   "cell_type": "code",
   "execution_count": null,
   "id": "ae28bb7f",
   "metadata": {},
   "outputs": [],
   "source": [
    "\n",
    "\n",
    "# for i in range(d):\n",
    "#     # find all 1-d distances\n",
    "#     pd=pdist(pos_list[:,i].reshape(n,1))\n",
    "#     # apply boundary conditions\n",
    "#     pd[pd>L*0.5]-=L\n",
    "\n",
    "#     try:\n",
    "#         # sum\n",
    "#         total+=pd**2\n",
    "#     except Exception as e:\n",
    "#         # or define the sum if not previously defined\n",
    "#         total=pd**2\n",
    "# # transform the condensed distance matrix...\n",
    "# total=np.sqrt(total)\n",
    "# # ...into a square distance matrix\n",
    "# square=squareform(total)\n",
    "# db=cluster.DBSCAN(eps=0.3, min_samples=5, metric='precomputed').fit(square)\n",
    "\n",
    "\n",
    "# df_pos['cluster'] = db.labels_\n",
    "\n",
    "# plot_clusters(df, 1000, 0.5, db.labels_)\n",
    "\n",
    "\n",
    "# # stats\n",
    "# labels = db.labels_\n",
    "# n_clusters_ = len(set(labels)) - (1 if -1 in labels else 0)\n",
    "# n_noise_ = list(labels).count(-1)\n",
    "\n",
    "# print(\"Estimated number of clusters: %d\" % n_clusters_)\n",
    "# print(\"Estimated number of noise points: %d\" % n_noise_)\n"
   ]
  }
 ],
 "metadata": {
  "kernelspec": {
   "display_name": "Python 3 (ipykernel)",
   "language": "python",
   "name": "python3"
  },
  "language_info": {
   "codemirror_mode": {
    "name": "ipython",
    "version": 3
   },
   "file_extension": ".py",
   "mimetype": "text/x-python",
   "name": "python",
   "nbconvert_exporter": "python",
   "pygments_lexer": "ipython3",
   "version": "3.9.13"
  }
 },
 "nbformat": 4,
 "nbformat_minor": 5
}
