{
 "cells": [
  {
   "cell_type": "code",
   "execution_count": 1,
   "metadata": {},
   "outputs": [
    {
     "data": {
      "text/plain": [
       "(500, 2)"
      ]
     },
     "execution_count": 1,
     "metadata": {},
     "output_type": "execute_result"
    }
   ],
   "source": [
    "import pylab as pl\n",
    "from sklearn.cluster import DBSCAN\n",
    "from scipy.spatial.distance import pdist,squareform\n",
    " \n",
    "# box size\n",
    "L=50.\n",
    "threshold=0.3\n",
    "# create data\n",
    "X=pl.uniform(-1,1, size=(500,2))\n",
    "X[0:100] += 20 \n",
    "X[0:100] %= L\n",
    "\n",
    "# create for corners\n",
    "X[:,0]-=1\n",
    "X[X<0]+=L\n",
    " \n",
    "\n",
    "X.shape"
   ]
  },
  {
   "cell_type": "code",
   "execution_count": 2,
   "metadata": {},
   "outputs": [
    {
     "data": {
      "image/png": "[encoded data removed]",
      "text/plain": [
       "<Figure size 640x480 with 1 Axes>"
      ]
     },
     "metadata": {},
     "output_type": "display_data"
    },
    {
     "data": {
      "text/plain": [
       "<Figure size 640x480 with 0 Axes>"
      ]
     },
     "metadata": {},
     "output_type": "display_data"
    }
   ],
   "source": [
    "\n",
    "\n",
    "# finding clusters, no periodic boundaries\n",
    "db=DBSCAN(eps=threshold).fit(X)\n",
    " \n",
    "pl.scatter(X[:,0], X[:,1],c=db.labels_, s=3,edgecolors='None')\n",
    "pl.figure()\n",
    "pl.show()\n"
   ]
  },
  {
   "cell_type": "code",
   "execution_count": 10,
   "metadata": {},
   "outputs": [
    {
     "name": "stdout",
     "output_type": "stream",
     "text": [
      "0 513.2126479101465\n",
      "1 982.8249570824578\n",
      "31.350039187893493\n",
      "31.350039187893493\n"
     ]
    },
    {
     "data": {
      "text/plain": [
       "array([483.5254013 , 483.79364724])"
      ]
     },
     "execution_count": 10,
     "metadata": {},
     "output_type": "execute_result"
    }
   ],
   "source": [
    "\n",
    " \n",
    "# 1) find the correct distance matrix\n",
    "m = pl.zeros(X.shape[1])\n",
    "total = 0\n",
    "for d in range(X.shape[1]):\n",
    "    # find all 1-d distances\n",
    "    pd=pdist(X[:,d].reshape(X.shape[0],1))\n",
    "    # apply boundary conditions\n",
    "    pd[pd>L*0.5]-=L\n",
    "    m[d] = max(pd**2)\n",
    "    try:\n",
    "        # sum\n",
    "        total+=pd**2\n",
    "    except Exception as e:\n",
    "        # or define the sum if not previously defined\n",
    "        total=pd**2\n",
    "    print(d, max(total))\n",
    "# transform the condensed distance matrix...\n",
    "total=pl.sqrt(total) \n",
    "print(max(total))\n",
    "# ...into a square distance matrix\n",
    "square=squareform(total)\n",
    "\n",
    "print(max(square.flatten()))\n",
    "m"
   ]
  },
  {
   "cell_type": "code",
   "execution_count": 4,
   "metadata": {},
   "outputs": [
    {
     "name": "stdout",
     "output_type": "stream",
     "text": [
      "0 483.5254013009665\n",
      "1 951.4749179266623\n",
      "30.845987063581905\n",
      "30.845987063581905\n"
     ]
    },
    {
     "data": {
      "text/plain": [
       "array([483.5254013 , 483.79364724])"
      ]
     },
     "execution_count": 4,
     "metadata": {},
     "output_type": "execute_result"
    }
   ],
   "source": [
    "def periodic_distance_matrix_1D(X, d, L):\n",
    "    pd=pdist(X[:,d].reshape(X.shape[0],1))\n",
    "    pd[pd>L*0.5]-=L\n",
    "    return pd**2\n",
    "def periodic_distance_matrix(X, periods):\n",
    "    total = 0\n",
    "    for d, L in zip(range(X.shape[1]), periods):\n",
    "        pd2 = periodic_distance_matrix_1D(X, d, L)\n",
    "        mp[d] = max(pd2)\n",
    "        total+=pd2\n",
    "        print(d, max(total))\n",
    "\n",
    "    return pl.sqrt(total)\n",
    "\n",
    "mp = pl.zeros(X.shape[1])\n",
    "\n",
    "total = periodic_distance_matrix(X, [L, L])\n",
    "print(max(total))\n",
    "square = squareform(total)\n",
    "print(max(square.flatten()))\n",
    "mp"
   ]
  },
  {
   "cell_type": "code",
   "execution_count": 5,
   "metadata": {},
   "outputs": [
    {
     "name": "stdout",
     "output_type": "stream",
     "text": [
      "2\n"
     ]
    },
    {
     "data": {
      "image/png": "[encoded data removed]",
      "text/plain": [
       "<Figure size 640x480 with 1 Axes>"
      ]
     },
     "metadata": {},
     "output_type": "display_data"
    }
   ],
   "source": [
    "\n",
    "db=DBSCAN(eps=2, metric='precomputed').fit(square)\n",
    "print(len(set(db.labels_)))\n",
    "pl.scatter(X[:,0], X[:,1],c=db.labels_,s=3, edgecolors='None')\n",
    "pl.show()"
   ]
  },
  {
   "cell_type": "code",
   "execution_count": null,
   "metadata": {},
   "outputs": [],
   "source": []
  }
 ],
 "metadata": {
  "kernelspec": {
   "display_name": "base",
   "language": "python",
   "name": "python3"
  },
  "language_info": {
   "codemirror_mode": {
    "name": "ipython",
    "version": 3
   },
   "file_extension": ".py",
   "mimetype": "text/x-python",
   "name": "python",
   "nbconvert_exporter": "python",
   "pygments_lexer": "ipython3",
   "version": "3.9.13"
  }
 },
 "nbformat": 4,
 "nbformat_minor": 2
}
