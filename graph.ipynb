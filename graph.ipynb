{
 "cells": [
  {
   "cell_type": "code",
   "execution_count": null,
   "metadata": {},
   "outputs": [],
   "source": [
    "import igraph as ig\n",
    "import matplotlib.pyplot as plt\n",
    "\n",
    "# Construct a graph with 5 vertices\n",
    "n_vertices = 5\n",
    "edges = [(0, 1), (0, 2), (0, 3), (0, 4), (1, 2), (1, 3), (1, 4), (3, 4)]\n",
    "g = ig.Graph(n_vertices, edges)\n",
    "\n",
    "# Set attributes for the graph, nodes, and edges\n",
    "g[\"title\"] = \"Small Social Network\"\n",
    "g.vs[\"name\"] = [\"Daniel Morillas\", \"Kathy Archer\", \"Kyle Ding\", \"Joshua Walton\", \"Jana Hoyer\"]\n",
    "g.vs[\"gender\"] = [\"M\", \"F\", \"F\", \"M\", \"F\"]\n",
    "g.es[\"married\"] = [False, False, False, False, False, False, False, True]\n",
    "\n",
    "# Set individual attributes\n",
    "g.vs[1][\"name\"] = \"Kathy Morillas\"\n",
    "g.es[0][\"married\"] = True\n",
    "\n",
    "# Plot in matplotlib\n",
    "# Note that attributes can be set globally (e.g. vertex_size), or set individually using arrays (e.g. vertex_color)\n",
    "fig, ax = plt.subplots(figsize=(5,5))\n",
    "ig.plot(\n",
    "    g,\n",
    "    target=ax,\n",
    "    layout=\"circle\", # print nodes in a circular layout\n",
    "    vertex_size=30,\n",
    "    vertex_color=[\"steelblue\" if gender == \"M\" else \"salmon\" for gender in g.vs[\"gender\"]],\n",
    "    vertex_frame_width=4.0,\n",
    "    vertex_frame_color=\"white\",\n",
    "    vertex_label=g.vs[\"name\"],\n",
    "    vertex_label_size=7.0,\n",
    "    edge_width=[2 if married else 1 for married in g.es[\"married\"]],\n",
    "    edge_color=[\"#7142cf\" if married else \"#AAA\" for married in g.es[\"married\"]]\n",
    ")\n",
    "\n",
    "plt.show()\n",
    "\n",
    "# Save the graph as an image file\n",
    "fig.savefig('social_network.png')\n",
    "fig.savefig('social_network.jpg')\n",
    "fig.savefig('social_network.pdf')\n",
    "\n",
    "# Export and import a graph as a GML file.\n",
    "g.save(\"social_network.gml\")\n",
    "g = ig.load(\"social_network.gml\")"
   ]
  }
 ],
 "metadata": {
  "language_info": {
   "name": "python"
  }
 },
 "nbformat": 4,
 "nbformat_minor": 2
}
